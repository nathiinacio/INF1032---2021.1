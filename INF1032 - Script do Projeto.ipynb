{
 "cells": [
  {
   "cell_type": "markdown",
   "metadata": {},
   "source": [
    "# Projeto de INF1032\n",
    "\n",
    "## Análise do Mercado Financeiro durante a pandemia.\n",
    "\n",
    "### Passos:\n",
    "\n",
    "● Coletar os dados da empresa Orama Investimentos.\n",
    "\n",
    "● Fazer uma análise do mercado financeiro durante as crises,\n",
    "comparando com os dados de 2020 e 2008.\n",
    "\n",
    "● Identificar se existirá um crescimento das ações para os próximos 3\n",
    "meses através de um modelo de classificação.\n",
    "\n",
    "### Alunos: Barbara Herrera, Geam Morales e Nathalia Inácio"
   ]
  },
  {
   "cell_type": "markdown",
   "metadata": {},
   "source": [
    "## Imports"
   ]
  },
  {
   "cell_type": "code",
   "execution_count": 121,
   "metadata": {},
   "outputs": [],
   "source": [
    "import pandas as pd\n",
    "import dataframe_image as dfi\n",
    "import numpy as np\n",
    "import matplotlib.pyplot as plt\n",
    "import seaborn as sns\n",
    "from re import sub\n",
    "from decimal import Decimal\n",
    "\n",
    "# Ocultando Warnings indesejados\n",
    "import warnings\n",
    "warnings.filterwarnings('ignore')"
   ]
  },
  {
   "cell_type": "markdown",
   "metadata": {},
   "source": [
    "# Pandemia 2008"
   ]
  },
  {
   "cell_type": "markdown",
   "metadata": {},
   "source": [
    "## Lendo arquivo cotação 2008"
   ]
  },
  {
   "cell_type": "code",
   "execution_count": 2,
   "metadata": {},
   "outputs": [
    {
     "name": "stdout",
     "output_type": "stream",
     "text": [
      "Total de Linhas:  5573\n"
     ]
    },
    {
     "data": {
      "text/html": [
       "<div>\n",
       "<style scoped>\n",
       "    .dataframe tbody tr th:only-of-type {\n",
       "        vertical-align: middle;\n",
       "    }\n",
       "\n",
       "    .dataframe tbody tr th {\n",
       "        vertical-align: top;\n",
       "    }\n",
       "\n",
       "    .dataframe thead th {\n",
       "        text-align: right;\n",
       "    }\n",
       "</style>\n",
       "<table border=\"1\" class=\"dataframe\">\n",
       "  <thead>\n",
       "    <tr style=\"text-align: right;\">\n",
       "      <th></th>\n",
       "      <th>Empresa</th>\n",
       "      <th>Mês</th>\n",
       "      <th>Abertura</th>\n",
       "      <th>Segmento</th>\n",
       "    </tr>\n",
       "  </thead>\n",
       "  <tbody>\n",
       "    <tr>\n",
       "      <th>0</th>\n",
       "      <td>ABC BRASIL</td>\n",
       "      <td>1</td>\n",
       "      <td>573,14</td>\n",
       "      <td>Outro</td>\n",
       "    </tr>\n",
       "    <tr>\n",
       "      <th>1</th>\n",
       "      <td>ABC BRASIL</td>\n",
       "      <td>10</td>\n",
       "      <td>178,9</td>\n",
       "      <td>Outro</td>\n",
       "    </tr>\n",
       "    <tr>\n",
       "      <th>2</th>\n",
       "      <td>ABC BRASIL</td>\n",
       "      <td>11</td>\n",
       "      <td>155,45</td>\n",
       "      <td>Outro</td>\n",
       "    </tr>\n",
       "    <tr>\n",
       "      <th>3</th>\n",
       "      <td>ABC BRASIL</td>\n",
       "      <td>12</td>\n",
       "      <td>157,61</td>\n",
       "      <td>Outro</td>\n",
       "    </tr>\n",
       "    <tr>\n",
       "      <th>4</th>\n",
       "      <td>ABC BRASIL</td>\n",
       "      <td>2</td>\n",
       "      <td>396,6</td>\n",
       "      <td>Outro</td>\n",
       "    </tr>\n",
       "  </tbody>\n",
       "</table>\n",
       "</div>"
      ],
      "text/plain": [
       "      Empresa  Mês Abertura Segmento\n",
       "0  ABC BRASIL    1   573,14    Outro\n",
       "1  ABC BRASIL   10    178,9    Outro\n",
       "2  ABC BRASIL   11   155,45    Outro\n",
       "3  ABC BRASIL   12   157,61    Outro\n",
       "4  ABC BRASIL    2    396,6    Outro"
      ]
     },
     "execution_count": 2,
     "metadata": {},
     "output_type": "execute_result"
    }
   ],
   "source": [
    "data_url = '2008_Cotação.csv'\n",
    "data_2008 = pd.read_csv(data_url, header='infer', error_bad_lines=False, sep=';',)\n",
    "print(\"Total de Linhas: \",data_2008.shape[0])\n",
    "data_2008.head()"
   ]
  },
  {
   "cell_type": "markdown",
   "metadata": {},
   "source": [
    "## Eliminando linhas vazias\n"
   ]
  },
  {
   "cell_type": "code",
   "execution_count": 3,
   "metadata": {},
   "outputs": [
    {
     "name": "stdout",
     "output_type": "stream",
     "text": [
      "Total de Linhas:  5573\n"
     ]
    },
    {
     "data": {
      "text/html": [
       "<div>\n",
       "<style scoped>\n",
       "    .dataframe tbody tr th:only-of-type {\n",
       "        vertical-align: middle;\n",
       "    }\n",
       "\n",
       "    .dataframe tbody tr th {\n",
       "        vertical-align: top;\n",
       "    }\n",
       "\n",
       "    .dataframe thead th {\n",
       "        text-align: right;\n",
       "    }\n",
       "</style>\n",
       "<table border=\"1\" class=\"dataframe\">\n",
       "  <thead>\n",
       "    <tr style=\"text-align: right;\">\n",
       "      <th></th>\n",
       "      <th>Empresa</th>\n",
       "      <th>Mês</th>\n",
       "      <th>Abertura</th>\n",
       "      <th>Segmento</th>\n",
       "    </tr>\n",
       "  </thead>\n",
       "  <tbody>\n",
       "    <tr>\n",
       "      <th>0</th>\n",
       "      <td>ABC BRASIL</td>\n",
       "      <td>1</td>\n",
       "      <td>573,14</td>\n",
       "      <td>Outro</td>\n",
       "    </tr>\n",
       "    <tr>\n",
       "      <th>1</th>\n",
       "      <td>ABC BRASIL</td>\n",
       "      <td>10</td>\n",
       "      <td>178,9</td>\n",
       "      <td>Outro</td>\n",
       "    </tr>\n",
       "    <tr>\n",
       "      <th>2</th>\n",
       "      <td>ABC BRASIL</td>\n",
       "      <td>11</td>\n",
       "      <td>155,45</td>\n",
       "      <td>Outro</td>\n",
       "    </tr>\n",
       "    <tr>\n",
       "      <th>3</th>\n",
       "      <td>ABC BRASIL</td>\n",
       "      <td>12</td>\n",
       "      <td>157,61</td>\n",
       "      <td>Outro</td>\n",
       "    </tr>\n",
       "    <tr>\n",
       "      <th>4</th>\n",
       "      <td>ABC BRASIL</td>\n",
       "      <td>2</td>\n",
       "      <td>396,6</td>\n",
       "      <td>Outro</td>\n",
       "    </tr>\n",
       "  </tbody>\n",
       "</table>\n",
       "</div>"
      ],
      "text/plain": [
       "      Empresa  Mês Abertura Segmento\n",
       "0  ABC BRASIL    1   573,14    Outro\n",
       "1  ABC BRASIL   10    178,9    Outro\n",
       "2  ABC BRASIL   11   155,45    Outro\n",
       "3  ABC BRASIL   12   157,61    Outro\n",
       "4  ABC BRASIL    2    396,6    Outro"
      ]
     },
     "execution_count": 3,
     "metadata": {},
     "output_type": "execute_result"
    }
   ],
   "source": [
    "data_2008 = data_2008.dropna()\n",
    "print(\"Total de Linhas: \",data_2008.shape[0])\n",
    "data_2008.head()"
   ]
  },
  {
   "cell_type": "markdown",
   "metadata": {},
   "source": [
    "## Fazendo transposição"
   ]
  },
  {
   "cell_type": "code",
   "execution_count": 4,
   "metadata": {},
   "outputs": [
    {
     "data": {
      "text/html": [
       "<div>\n",
       "<style scoped>\n",
       "    .dataframe tbody tr th:only-of-type {\n",
       "        vertical-align: middle;\n",
       "    }\n",
       "\n",
       "    .dataframe tbody tr th {\n",
       "        vertical-align: top;\n",
       "    }\n",
       "\n",
       "    .dataframe thead th {\n",
       "        text-align: right;\n",
       "    }\n",
       "</style>\n",
       "<table border=\"1\" class=\"dataframe\">\n",
       "  <thead>\n",
       "    <tr style=\"text-align: right;\">\n",
       "      <th></th>\n",
       "      <th>Mês</th>\n",
       "      <th>1</th>\n",
       "      <th>2</th>\n",
       "      <th>3</th>\n",
       "      <th>4</th>\n",
       "      <th>5</th>\n",
       "      <th>6</th>\n",
       "      <th>7</th>\n",
       "      <th>8</th>\n",
       "      <th>9</th>\n",
       "      <th>10</th>\n",
       "      <th>11</th>\n",
       "      <th>12</th>\n",
       "    </tr>\n",
       "    <tr>\n",
       "      <th>Segmento</th>\n",
       "      <th>Empresa</th>\n",
       "      <th></th>\n",
       "      <th></th>\n",
       "      <th></th>\n",
       "      <th></th>\n",
       "      <th></th>\n",
       "      <th></th>\n",
       "      <th></th>\n",
       "      <th></th>\n",
       "      <th></th>\n",
       "      <th></th>\n",
       "      <th></th>\n",
       "      <th></th>\n",
       "    </tr>\n",
       "  </thead>\n",
       "  <tbody>\n",
       "    <tr>\n",
       "      <th>Agropecuária</th>\n",
       "      <th>SLC AGRICOLA</th>\n",
       "      <td>805,76</td>\n",
       "      <td>857,33</td>\n",
       "      <td>986,26</td>\n",
       "      <td>1.370,22</td>\n",
       "      <td>1.506,47</td>\n",
       "      <td>1.452,53</td>\n",
       "      <td>1.512,72</td>\n",
       "      <td>1.061,17</td>\n",
       "      <td>983,34</td>\n",
       "      <td>553,59</td>\n",
       "      <td>440,39</td>\n",
       "      <td>534,04</td>\n",
       "    </tr>\n",
       "    <tr>\n",
       "      <th rowspan=\"2\" valign=\"top\">Alimentos Processados</th>\n",
       "      <th>M.DIASBRANCO</th>\n",
       "      <td>1.166,72</td>\n",
       "      <td>784,78</td>\n",
       "      <td>738,87</td>\n",
       "      <td>1.005,23</td>\n",
       "      <td>1.020,48</td>\n",
       "      <td>945,18</td>\n",
       "      <td>1.066,6</td>\n",
       "      <td>906,34</td>\n",
       "      <td>867,62</td>\n",
       "      <td>627,59</td>\n",
       "      <td>646,34</td>\n",
       "      <td>569,36</td>\n",
       "    </tr>\n",
       "    <tr>\n",
       "      <th>SAO MARTINHO</th>\n",
       "      <td>1.424,69</td>\n",
       "      <td>1.346,24</td>\n",
       "      <td>1.384,18</td>\n",
       "      <td>1.373,47</td>\n",
       "      <td>1.654,6</td>\n",
       "      <td>1.340,56</td>\n",
       "      <td>1.395,77</td>\n",
       "      <td>1.151,49</td>\n",
       "      <td>1.171,11</td>\n",
       "      <td>733,55</td>\n",
       "      <td>425,71</td>\n",
       "      <td>454,7</td>\n",
       "    </tr>\n",
       "    <tr>\n",
       "      <th rowspan=\"2\" valign=\"top\">Automóveis e Motocicletas</th>\n",
       "      <th>IOCHP-MAXION</th>\n",
       "      <td>1.979,15</td>\n",
       "      <td>1.562,38</td>\n",
       "      <td>1.788,05</td>\n",
       "      <td>1.563,58</td>\n",
       "      <td>1.902,57</td>\n",
       "      <td>1.917,95</td>\n",
       "      <td>1.570,17</td>\n",
       "      <td>1.340,11</td>\n",
       "      <td>1.293,3</td>\n",
       "      <td>813,15</td>\n",
       "      <td>483,66</td>\n",
       "      <td>437,47</td>\n",
       "    </tr>\n",
       "    <tr>\n",
       "      <th>PLASCAR PART</th>\n",
       "      <td>690,7</td>\n",
       "      <td>566,09</td>\n",
       "      <td>448,34</td>\n",
       "      <td>422,13</td>\n",
       "      <td>423,9</td>\n",
       "      <td>467,22</td>\n",
       "      <td>418,13</td>\n",
       "      <td>345,07</td>\n",
       "      <td>249,73</td>\n",
       "      <td>160,93</td>\n",
       "      <td>114,68</td>\n",
       "      <td>63,39</td>\n",
       "    </tr>\n",
       "  </tbody>\n",
       "</table>\n",
       "</div>"
      ],
      "text/plain": [
       "Mês                                           1         2         3   \\\n",
       "Segmento                  Empresa                                      \n",
       "Agropecuária              SLC AGRICOLA    805,76    857,33    986,26   \n",
       "Alimentos Processados     M.DIASBRANCO  1.166,72    784,78    738,87   \n",
       "                          SAO MARTINHO  1.424,69  1.346,24  1.384,18   \n",
       "Automóveis e Motocicletas IOCHP-MAXION  1.979,15  1.562,38  1.788,05   \n",
       "                          PLASCAR PART     690,7    566,09    448,34   \n",
       "\n",
       "Mês                                           4         5         6   \\\n",
       "Segmento                  Empresa                                      \n",
       "Agropecuária              SLC AGRICOLA  1.370,22  1.506,47  1.452,53   \n",
       "Alimentos Processados     M.DIASBRANCO  1.005,23  1.020,48    945,18   \n",
       "                          SAO MARTINHO  1.373,47   1.654,6  1.340,56   \n",
       "Automóveis e Motocicletas IOCHP-MAXION  1.563,58  1.902,57  1.917,95   \n",
       "                          PLASCAR PART    422,13     423,9    467,22   \n",
       "\n",
       "Mês                                           7         8         9       10  \\\n",
       "Segmento                  Empresa                                              \n",
       "Agropecuária              SLC AGRICOLA  1.512,72  1.061,17    983,34  553,59   \n",
       "Alimentos Processados     M.DIASBRANCO   1.066,6    906,34    867,62  627,59   \n",
       "                          SAO MARTINHO  1.395,77  1.151,49  1.171,11  733,55   \n",
       "Automóveis e Motocicletas IOCHP-MAXION  1.570,17  1.340,11   1.293,3  813,15   \n",
       "                          PLASCAR PART    418,13    345,07    249,73  160,93   \n",
       "\n",
       "Mês                                         11      12  \n",
       "Segmento                  Empresa                       \n",
       "Agropecuária              SLC AGRICOLA  440,39  534,04  \n",
       "Alimentos Processados     M.DIASBRANCO  646,34  569,36  \n",
       "                          SAO MARTINHO  425,71   454,7  \n",
       "Automóveis e Motocicletas IOCHP-MAXION  483,66  437,47  \n",
       "                          PLASCAR PART  114,68   63,39  "
      ]
     },
     "execution_count": 4,
     "metadata": {},
     "output_type": "execute_result"
    }
   ],
   "source": [
    "data_2008 = data_2008.pivot(index=['Segmento', 'Empresa'], columns='Mês', values='Abertura')\n",
    "dfi.export(data_2008,\"tabela_2008.png\", max_rows = -1)\n",
    "data_2008.head()"
   ]
  },
  {
   "cell_type": "code",
   "execution_count": 5,
   "metadata": {},
   "outputs": [],
   "source": [
    "data_2008.to_csv('2008.csv')"
   ]
  },
  {
   "cell_type": "markdown",
   "metadata": {},
   "source": [
    "## Visualizando nova tabela transposta"
   ]
  },
  {
   "cell_type": "code",
   "execution_count": 6,
   "metadata": {},
   "outputs": [
    {
     "name": "stdout",
     "output_type": "stream",
     "text": [
      "Total de Linhas:  683\n"
     ]
    },
    {
     "data": {
      "text/html": [
       "<div>\n",
       "<style scoped>\n",
       "    .dataframe tbody tr th:only-of-type {\n",
       "        vertical-align: middle;\n",
       "    }\n",
       "\n",
       "    .dataframe tbody tr th {\n",
       "        vertical-align: top;\n",
       "    }\n",
       "\n",
       "    .dataframe thead th {\n",
       "        text-align: right;\n",
       "    }\n",
       "</style>\n",
       "<table border=\"1\" class=\"dataframe\">\n",
       "  <thead>\n",
       "    <tr style=\"text-align: right;\">\n",
       "      <th></th>\n",
       "      <th>Segmento</th>\n",
       "      <th>Empresa</th>\n",
       "      <th>1</th>\n",
       "      <th>2</th>\n",
       "      <th>3</th>\n",
       "      <th>4</th>\n",
       "      <th>5</th>\n",
       "      <th>6</th>\n",
       "      <th>7</th>\n",
       "      <th>8</th>\n",
       "      <th>9</th>\n",
       "      <th>10</th>\n",
       "      <th>11</th>\n",
       "      <th>12</th>\n",
       "    </tr>\n",
       "  </thead>\n",
       "  <tbody>\n",
       "    <tr>\n",
       "      <th>0</th>\n",
       "      <td>Agropecuária</td>\n",
       "      <td>SLC AGRICOLA</td>\n",
       "      <td>805,76</td>\n",
       "      <td>857,33</td>\n",
       "      <td>986,26</td>\n",
       "      <td>1.370,22</td>\n",
       "      <td>1.506,47</td>\n",
       "      <td>1.452,53</td>\n",
       "      <td>1.512,72</td>\n",
       "      <td>1.061,17</td>\n",
       "      <td>983,34</td>\n",
       "      <td>553,59</td>\n",
       "      <td>440,39</td>\n",
       "      <td>534,04</td>\n",
       "    </tr>\n",
       "    <tr>\n",
       "      <th>1</th>\n",
       "      <td>Alimentos Processados</td>\n",
       "      <td>M.DIASBRANCO</td>\n",
       "      <td>1.166,72</td>\n",
       "      <td>784,78</td>\n",
       "      <td>738,87</td>\n",
       "      <td>1.005,23</td>\n",
       "      <td>1.020,48</td>\n",
       "      <td>945,18</td>\n",
       "      <td>1.066,6</td>\n",
       "      <td>906,34</td>\n",
       "      <td>867,62</td>\n",
       "      <td>627,59</td>\n",
       "      <td>646,34</td>\n",
       "      <td>569,36</td>\n",
       "    </tr>\n",
       "    <tr>\n",
       "      <th>2</th>\n",
       "      <td>Alimentos Processados</td>\n",
       "      <td>SAO MARTINHO</td>\n",
       "      <td>1.424,69</td>\n",
       "      <td>1.346,24</td>\n",
       "      <td>1.384,18</td>\n",
       "      <td>1.373,47</td>\n",
       "      <td>1.654,6</td>\n",
       "      <td>1.340,56</td>\n",
       "      <td>1.395,77</td>\n",
       "      <td>1.151,49</td>\n",
       "      <td>1.171,11</td>\n",
       "      <td>733,55</td>\n",
       "      <td>425,71</td>\n",
       "      <td>454,7</td>\n",
       "    </tr>\n",
       "    <tr>\n",
       "      <th>3</th>\n",
       "      <td>Automóveis e Motocicletas</td>\n",
       "      <td>IOCHP-MAXION</td>\n",
       "      <td>1.979,15</td>\n",
       "      <td>1.562,38</td>\n",
       "      <td>1.788,05</td>\n",
       "      <td>1.563,58</td>\n",
       "      <td>1.902,57</td>\n",
       "      <td>1.917,95</td>\n",
       "      <td>1.570,17</td>\n",
       "      <td>1.340,11</td>\n",
       "      <td>1.293,3</td>\n",
       "      <td>813,15</td>\n",
       "      <td>483,66</td>\n",
       "      <td>437,47</td>\n",
       "    </tr>\n",
       "    <tr>\n",
       "      <th>4</th>\n",
       "      <td>Automóveis e Motocicletas</td>\n",
       "      <td>PLASCAR PART</td>\n",
       "      <td>690,7</td>\n",
       "      <td>566,09</td>\n",
       "      <td>448,34</td>\n",
       "      <td>422,13</td>\n",
       "      <td>423,9</td>\n",
       "      <td>467,22</td>\n",
       "      <td>418,13</td>\n",
       "      <td>345,07</td>\n",
       "      <td>249,73</td>\n",
       "      <td>160,93</td>\n",
       "      <td>114,68</td>\n",
       "      <td>63,39</td>\n",
       "    </tr>\n",
       "  </tbody>\n",
       "</table>\n",
       "</div>"
      ],
      "text/plain": [
       "                    Segmento       Empresa         1         2         3  \\\n",
       "0               Agropecuária  SLC AGRICOLA    805,76    857,33    986,26   \n",
       "1      Alimentos Processados  M.DIASBRANCO  1.166,72    784,78    738,87   \n",
       "2      Alimentos Processados  SAO MARTINHO  1.424,69  1.346,24  1.384,18   \n",
       "3  Automóveis e Motocicletas  IOCHP-MAXION  1.979,15  1.562,38  1.788,05   \n",
       "4  Automóveis e Motocicletas  PLASCAR PART     690,7    566,09    448,34   \n",
       "\n",
       "          4         5         6         7         8         9      10      11  \\\n",
       "0  1.370,22  1.506,47  1.452,53  1.512,72  1.061,17    983,34  553,59  440,39   \n",
       "1  1.005,23  1.020,48    945,18   1.066,6    906,34    867,62  627,59  646,34   \n",
       "2  1.373,47   1.654,6  1.340,56  1.395,77  1.151,49  1.171,11  733,55  425,71   \n",
       "3  1.563,58  1.902,57  1.917,95  1.570,17  1.340,11   1.293,3  813,15  483,66   \n",
       "4    422,13     423,9    467,22    418,13    345,07    249,73  160,93  114,68   \n",
       "\n",
       "       12  \n",
       "0  534,04  \n",
       "1  569,36  \n",
       "2   454,7  \n",
       "3  437,47  \n",
       "4   63,39  "
      ]
     },
     "execution_count": 6,
     "metadata": {},
     "output_type": "execute_result"
    }
   ],
   "source": [
    "data_url = '2008.csv'\n",
    "data_2008 = pd.read_csv(data_url, header='infer', error_bad_lines=False, sep=',',)\n",
    "print(\"Total de Linhas: \",data_2008.shape[0])\n",
    "data_2008.head()"
   ]
  },
  {
   "cell_type": "markdown",
   "metadata": {},
   "source": [
    "## Tratando e convertendo os dados de valores"
   ]
  },
  {
   "cell_type": "code",
   "execution_count": 7,
   "metadata": {
    "scrolled": true
   },
   "outputs": [
    {
     "name": "stderr",
     "output_type": "stream",
     "text": [
      "<ipython-input-7-b3481f940e9c>:2: FutureWarning: The default value of regex will change from True to False in a future version. In addition, single character regular expressions will*not* be treated as literal strings when regex=True.\n",
      "  data_2008[str(month)] = data_2008[str(month)].str.replace('.','')\n"
     ]
    },
    {
     "data": {
      "text/html": [
       "<div>\n",
       "<style scoped>\n",
       "    .dataframe tbody tr th:only-of-type {\n",
       "        vertical-align: middle;\n",
       "    }\n",
       "\n",
       "    .dataframe tbody tr th {\n",
       "        vertical-align: top;\n",
       "    }\n",
       "\n",
       "    .dataframe thead th {\n",
       "        text-align: right;\n",
       "    }\n",
       "</style>\n",
       "<table border=\"1\" class=\"dataframe\">\n",
       "  <thead>\n",
       "    <tr style=\"text-align: right;\">\n",
       "      <th></th>\n",
       "      <th>Segmento</th>\n",
       "      <th>Empresa</th>\n",
       "      <th>1</th>\n",
       "      <th>2</th>\n",
       "      <th>3</th>\n",
       "      <th>4</th>\n",
       "      <th>5</th>\n",
       "      <th>6</th>\n",
       "      <th>7</th>\n",
       "      <th>8</th>\n",
       "      <th>9</th>\n",
       "      <th>10</th>\n",
       "      <th>11</th>\n",
       "      <th>12</th>\n",
       "    </tr>\n",
       "  </thead>\n",
       "  <tbody>\n",
       "    <tr>\n",
       "      <th>0</th>\n",
       "      <td>Agropecuária</td>\n",
       "      <td>SLC AGRICOLA</td>\n",
       "      <td>805.76</td>\n",
       "      <td>857.33</td>\n",
       "      <td>986.26</td>\n",
       "      <td>1370.22</td>\n",
       "      <td>1506.47</td>\n",
       "      <td>1452.53</td>\n",
       "      <td>1512.72</td>\n",
       "      <td>1061.17</td>\n",
       "      <td>983.34</td>\n",
       "      <td>553.59</td>\n",
       "      <td>440.39</td>\n",
       "      <td>534.04</td>\n",
       "    </tr>\n",
       "    <tr>\n",
       "      <th>1</th>\n",
       "      <td>Alimentos Processados</td>\n",
       "      <td>M.DIASBRANCO</td>\n",
       "      <td>1166.72</td>\n",
       "      <td>784.78</td>\n",
       "      <td>738.87</td>\n",
       "      <td>1005.23</td>\n",
       "      <td>1020.48</td>\n",
       "      <td>945.18</td>\n",
       "      <td>1066.60</td>\n",
       "      <td>906.34</td>\n",
       "      <td>867.62</td>\n",
       "      <td>627.59</td>\n",
       "      <td>646.34</td>\n",
       "      <td>569.36</td>\n",
       "    </tr>\n",
       "    <tr>\n",
       "      <th>2</th>\n",
       "      <td>Alimentos Processados</td>\n",
       "      <td>SAO MARTINHO</td>\n",
       "      <td>1424.69</td>\n",
       "      <td>1346.24</td>\n",
       "      <td>1384.18</td>\n",
       "      <td>1373.47</td>\n",
       "      <td>1654.60</td>\n",
       "      <td>1340.56</td>\n",
       "      <td>1395.77</td>\n",
       "      <td>1151.49</td>\n",
       "      <td>1171.11</td>\n",
       "      <td>733.55</td>\n",
       "      <td>425.71</td>\n",
       "      <td>454.70</td>\n",
       "    </tr>\n",
       "    <tr>\n",
       "      <th>3</th>\n",
       "      <td>Automóveis e Motocicletas</td>\n",
       "      <td>IOCHP-MAXION</td>\n",
       "      <td>1979.15</td>\n",
       "      <td>1562.38</td>\n",
       "      <td>1788.05</td>\n",
       "      <td>1563.58</td>\n",
       "      <td>1902.57</td>\n",
       "      <td>1917.95</td>\n",
       "      <td>1570.17</td>\n",
       "      <td>1340.11</td>\n",
       "      <td>1293.30</td>\n",
       "      <td>813.15</td>\n",
       "      <td>483.66</td>\n",
       "      <td>437.47</td>\n",
       "    </tr>\n",
       "    <tr>\n",
       "      <th>4</th>\n",
       "      <td>Automóveis e Motocicletas</td>\n",
       "      <td>PLASCAR PART</td>\n",
       "      <td>690.70</td>\n",
       "      <td>566.09</td>\n",
       "      <td>448.34</td>\n",
       "      <td>422.13</td>\n",
       "      <td>423.90</td>\n",
       "      <td>467.22</td>\n",
       "      <td>418.13</td>\n",
       "      <td>345.07</td>\n",
       "      <td>249.73</td>\n",
       "      <td>160.93</td>\n",
       "      <td>114.68</td>\n",
       "      <td>63.39</td>\n",
       "    </tr>\n",
       "  </tbody>\n",
       "</table>\n",
       "</div>"
      ],
      "text/plain": [
       "                    Segmento       Empresa        1        2        3  \\\n",
       "0               Agropecuária  SLC AGRICOLA   805.76   857.33   986.26   \n",
       "1      Alimentos Processados  M.DIASBRANCO  1166.72   784.78   738.87   \n",
       "2      Alimentos Processados  SAO MARTINHO  1424.69  1346.24  1384.18   \n",
       "3  Automóveis e Motocicletas  IOCHP-MAXION  1979.15  1562.38  1788.05   \n",
       "4  Automóveis e Motocicletas  PLASCAR PART   690.70   566.09   448.34   \n",
       "\n",
       "         4        5        6        7        8        9      10      11  \\\n",
       "0  1370.22  1506.47  1452.53  1512.72  1061.17   983.34  553.59  440.39   \n",
       "1  1005.23  1020.48   945.18  1066.60   906.34   867.62  627.59  646.34   \n",
       "2  1373.47  1654.60  1340.56  1395.77  1151.49  1171.11  733.55  425.71   \n",
       "3  1563.58  1902.57  1917.95  1570.17  1340.11  1293.30  813.15  483.66   \n",
       "4   422.13   423.90   467.22   418.13   345.07   249.73  160.93  114.68   \n",
       "\n",
       "       12  \n",
       "0  534.04  \n",
       "1  569.36  \n",
       "2  454.70  \n",
       "3  437.47  \n",
       "4   63.39  "
      ]
     },
     "execution_count": 7,
     "metadata": {},
     "output_type": "execute_result"
    }
   ],
   "source": [
    "for month in range(1, 13): \n",
    "    data_2008[str(month)] = data_2008[str(month)].str.replace('.','')\n",
    "    data_2008[str(month)] = data_2008[str(month)].str.replace(',','.')\n",
    "    data_2008[str(month)] = data_2008[str(month)].astype(float)\n",
    "\n",
    "data_2008.head()"
   ]
  },
  {
   "cell_type": "markdown",
   "metadata": {},
   "source": [
    "## Maiores valores de abertura das empresas em 2008"
   ]
  },
  {
   "cell_type": "code",
   "execution_count": 8,
   "metadata": {},
   "outputs": [
    {
     "data": {
      "image/png": "[encoded data removed]",
      "text/plain": [
       "<Figure size 4320x2160 with 1 Axes>"
      ]
     },
     "metadata": {
      "needs_background": "light"
     },
     "output_type": "display_data"
    },
    {
     "data": {
      "text/plain": [
       "<Figure size 432x288 with 0 Axes>"
      ]
     },
     "metadata": {},
     "output_type": "display_data"
    }
   ],
   "source": [
    "data_2008_largest_abertura = data_2008.nlargest(50, '1')\n",
    "\n",
    "empresa = data_2008_largest_abertura['Empresa']\n",
    "janeiro = data_2008_largest_abertura['1']\n",
    "\n",
    "fig = plt.figure(figsize =(60, 30))\n",
    "plt.bar(empresa, janeiro)\n",
    "plt.show()\n",
    "plt.savefig('maiores_valores_abertura_empresas_2008.png', dpi=300)"
   ]
  },
  {
   "cell_type": "markdown",
   "metadata": {},
   "source": [
    "## Menores valores de abertura das empresas em 2008"
   ]
  },
  {
   "cell_type": "code",
   "execution_count": 9,
   "metadata": {},
   "outputs": [
    {
     "data": {
      "image/png": "[encoded data removed]",
      "text/plain": [
       "<Figure size 4320x2160 with 1 Axes>"
      ]
     },
     "metadata": {
      "needs_background": "light"
     },
     "output_type": "display_data"
    }
   ],
   "source": [
    "data_2008_lowest_abertura = data_2008.nsmallest(50, '1')\n",
    "\n",
    "empresa = data_2008_lowest_abertura['Empresa']\n",
    "janeiro = data_2008_lowest_abertura['1']\n",
    "\n",
    "fig = plt.figure(figsize =(60, 30))\n",
    "plt.bar(empresa, janeiro)\n",
    "plt.show()"
   ]
  },
  {
   "cell_type": "markdown",
   "metadata": {},
   "source": [
    "## Menores valores de abertura dos segmentos em 2008"
   ]
  },
  {
   "cell_type": "code",
   "execution_count": 10,
   "metadata": {},
   "outputs": [
    {
     "data": {
      "image/png": "[encoded data removed]",
      "text/plain": [
       "<Figure size 1440x720 with 1 Axes>"
      ]
     },
     "metadata": {
      "needs_background": "light"
     },
     "output_type": "display_data"
    }
   ],
   "source": [
    "data_2008_largest_abertura = data_2008.nlargest(50, '1')\n",
    "\n",
    "empresa = data_2008_largest_abertura['Segmento']\n",
    "janeiro = data_2008_largest_abertura['1']\n",
    "\n",
    "fig = plt.figure(figsize =(20, 10))\n",
    "plt.bar(empresa, janeiro)\n",
    "plt.show()"
   ]
  },
  {
   "cell_type": "markdown",
   "metadata": {},
   "source": [
    "## Maiores valores de abertura dos segmentos em 2008"
   ]
  },
  {
   "cell_type": "code",
   "execution_count": 11,
   "metadata": {},
   "outputs": [
    {
     "data": {
      "image/png": "[encoded data removed]",
      "text/plain": [
       "<Figure size 1440x720 with 1 Axes>"
      ]
     },
     "metadata": {
      "needs_background": "light"
     },
     "output_type": "display_data"
    }
   ],
   "source": [
    "data_2008_lowest_abertura = data_2008.nsmallest(50, '1')\n",
    "\n",
    "empresa = data_2008_lowest_abertura['Segmento']\n",
    "janeiro = data_2008_lowest_abertura['1']\n",
    "\n",
    "fig = plt.figure(figsize =(20, 10))\n",
    "plt.bar(empresa, janeiro)\n",
    "plt.show()"
   ]
  },
  {
   "cell_type": "markdown",
   "metadata": {},
   "source": [
    "## Maiores valores de fechamento das empresas em 2008"
   ]
  },
  {
   "cell_type": "code",
   "execution_count": 12,
   "metadata": {},
   "outputs": [
    {
     "data": {
      "image/png": "[encoded data removed]",
      "text/plain": [
       "<Figure size 1440x720 with 1 Axes>"
      ]
     },
     "metadata": {
      "needs_background": "light"
     },
     "output_type": "display_data"
    }
   ],
   "source": [
    "data_2008_largest_fechamento = data_2008.nlargest(50, '12')\n",
    "\n",
    "empresa = data_2008_largest_fechamento['Empresa']\n",
    "dezembro = data_2008_largest_fechamento['12']\n",
    "\n",
    "fig = plt.figure(figsize =(20, 10))\n",
    "plt.bar(empresa, dezembro)\n",
    "plt.show()"
   ]
  },
  {
   "cell_type": "markdown",
   "metadata": {},
   "source": [
    "## Maiores valores de fechamento dos segmentos em 2008"
   ]
  },
  {
   "cell_type": "code",
   "execution_count": 13,
   "metadata": {},
   "outputs": [
    {
     "data": {
      "image/png": "[encoded data removed]",
      "text/plain": [
       "<Figure size 1440x720 with 1 Axes>"
      ]
     },
     "metadata": {
      "needs_background": "light"
     },
     "output_type": "display_data"
    }
   ],
   "source": [
    "data_2008_largest_fechamento = data_2008.nlargest(50, '12')\n",
    "\n",
    "empresa = data_2008_largest_fechamento['Segmento']\n",
    "dezembro = data_2008_largest_fechamento['12']\n",
    "\n",
    "fig = plt.figure(figsize =(20, 10))\n",
    "plt.bar(empresa, dezembro)\n",
    "plt.show()"
   ]
  },
  {
   "cell_type": "markdown",
   "metadata": {},
   "source": [
    "## Menores valores de fechamento das empresas em 2008"
   ]
  },
  {
   "cell_type": "code",
   "execution_count": 14,
   "metadata": {},
   "outputs": [
    {
     "data": {
      "image/png": "[encoded data removed]",
      "text/plain": [
       "<Figure size 1440x720 with 1 Axes>"
      ]
     },
     "metadata": {
      "needs_background": "light"
     },
     "output_type": "display_data"
    }
   ],
   "source": [
    "data_2008_lowest_fechamento = data_2008.nsmallest(50, '12')\n",
    "\n",
    "empresa = data_2008_lowest_fechamento['Empresa']\n",
    "dezembro = data_2008_lowest_fechamento['12']\n",
    "\n",
    "fig = plt.figure(figsize =(20, 10))\n",
    "plt.bar(empresa, dezembro)\n",
    "plt.show()"
   ]
  },
  {
   "cell_type": "markdown",
   "metadata": {},
   "source": [
    "## Menores valores de fechamento das empresas em 2008"
   ]
  },
  {
   "cell_type": "code",
   "execution_count": 15,
   "metadata": {},
   "outputs": [
    {
     "data": {
      "image/png": "[encoded data removed]",
      "text/plain": [
       "<Figure size 1440x720 with 1 Axes>"
      ]
     },
     "metadata": {
      "needs_background": "light"
     },
     "output_type": "display_data"
    }
   ],
   "source": [
    "data_2008_lowest_fechamento = data_2008.nsmallest(50, '12')\n",
    "\n",
    "empresa = data_2008_lowest_fechamento['Segmento']\n",
    "dezembro = data_2008_lowest_fechamento['12']\n",
    "\n",
    "fig = plt.figure(figsize =(20, 10))\n",
    "plt.bar(empresa, dezembro)\n",
    "plt.show()"
   ]
  },
  {
   "cell_type": "markdown",
   "metadata": {},
   "source": [
    "## Calculando volatilidade e adicionando a coluna "
   ]
  },
  {
   "cell_type": "code",
   "execution_count": 16,
   "metadata": {},
   "outputs": [
    {
     "data": {
      "text/html": [
       "<div>\n",
       "<style scoped>\n",
       "    .dataframe tbody tr th:only-of-type {\n",
       "        vertical-align: middle;\n",
       "    }\n",
       "\n",
       "    .dataframe tbody tr th {\n",
       "        vertical-align: top;\n",
       "    }\n",
       "\n",
       "    .dataframe thead th {\n",
       "        text-align: right;\n",
       "    }\n",
       "</style>\n",
       "<table border=\"1\" class=\"dataframe\">\n",
       "  <thead>\n",
       "    <tr style=\"text-align: right;\">\n",
       "      <th></th>\n",
       "      <th>Segmento</th>\n",
       "      <th>Empresa</th>\n",
       "      <th>1</th>\n",
       "      <th>2</th>\n",
       "      <th>3</th>\n",
       "      <th>4</th>\n",
       "      <th>5</th>\n",
       "      <th>6</th>\n",
       "      <th>7</th>\n",
       "      <th>8</th>\n",
       "      <th>9</th>\n",
       "      <th>10</th>\n",
       "      <th>11</th>\n",
       "      <th>12</th>\n",
       "      <th>Volatilidade</th>\n",
       "    </tr>\n",
       "  </thead>\n",
       "  <tbody>\n",
       "    <tr>\n",
       "      <th>0</th>\n",
       "      <td>Agropecuária</td>\n",
       "      <td>SLC AGRICOLA</td>\n",
       "      <td>805.76</td>\n",
       "      <td>857.33</td>\n",
       "      <td>986.26</td>\n",
       "      <td>1370.22</td>\n",
       "      <td>1506.47</td>\n",
       "      <td>1452.53</td>\n",
       "      <td>1512.72</td>\n",
       "      <td>1061.17</td>\n",
       "      <td>983.34</td>\n",
       "      <td>553.59</td>\n",
       "      <td>440.39</td>\n",
       "      <td>534.04</td>\n",
       "      <td>271.72</td>\n",
       "    </tr>\n",
       "    <tr>\n",
       "      <th>1</th>\n",
       "      <td>Alimentos Processados</td>\n",
       "      <td>M.DIASBRANCO</td>\n",
       "      <td>1166.72</td>\n",
       "      <td>784.78</td>\n",
       "      <td>738.87</td>\n",
       "      <td>1005.23</td>\n",
       "      <td>1020.48</td>\n",
       "      <td>945.18</td>\n",
       "      <td>1066.60</td>\n",
       "      <td>906.34</td>\n",
       "      <td>867.62</td>\n",
       "      <td>627.59</td>\n",
       "      <td>646.34</td>\n",
       "      <td>569.36</td>\n",
       "      <td>597.36</td>\n",
       "    </tr>\n",
       "    <tr>\n",
       "      <th>2</th>\n",
       "      <td>Alimentos Processados</td>\n",
       "      <td>SAO MARTINHO</td>\n",
       "      <td>1424.69</td>\n",
       "      <td>1346.24</td>\n",
       "      <td>1384.18</td>\n",
       "      <td>1373.47</td>\n",
       "      <td>1654.60</td>\n",
       "      <td>1340.56</td>\n",
       "      <td>1395.77</td>\n",
       "      <td>1151.49</td>\n",
       "      <td>1171.11</td>\n",
       "      <td>733.55</td>\n",
       "      <td>425.71</td>\n",
       "      <td>454.70</td>\n",
       "      <td>969.99</td>\n",
       "    </tr>\n",
       "    <tr>\n",
       "      <th>3</th>\n",
       "      <td>Automóveis e Motocicletas</td>\n",
       "      <td>IOCHP-MAXION</td>\n",
       "      <td>1979.15</td>\n",
       "      <td>1562.38</td>\n",
       "      <td>1788.05</td>\n",
       "      <td>1563.58</td>\n",
       "      <td>1902.57</td>\n",
       "      <td>1917.95</td>\n",
       "      <td>1570.17</td>\n",
       "      <td>1340.11</td>\n",
       "      <td>1293.30</td>\n",
       "      <td>813.15</td>\n",
       "      <td>483.66</td>\n",
       "      <td>437.47</td>\n",
       "      <td>1541.68</td>\n",
       "    </tr>\n",
       "    <tr>\n",
       "      <th>4</th>\n",
       "      <td>Automóveis e Motocicletas</td>\n",
       "      <td>PLASCAR PART</td>\n",
       "      <td>690.70</td>\n",
       "      <td>566.09</td>\n",
       "      <td>448.34</td>\n",
       "      <td>422.13</td>\n",
       "      <td>423.90</td>\n",
       "      <td>467.22</td>\n",
       "      <td>418.13</td>\n",
       "      <td>345.07</td>\n",
       "      <td>249.73</td>\n",
       "      <td>160.93</td>\n",
       "      <td>114.68</td>\n",
       "      <td>63.39</td>\n",
       "      <td>627.31</td>\n",
       "    </tr>\n",
       "  </tbody>\n",
       "</table>\n",
       "</div>"
      ],
      "text/plain": [
       "                    Segmento       Empresa        1        2        3  \\\n",
       "0               Agropecuária  SLC AGRICOLA   805.76   857.33   986.26   \n",
       "1      Alimentos Processados  M.DIASBRANCO  1166.72   784.78   738.87   \n",
       "2      Alimentos Processados  SAO MARTINHO  1424.69  1346.24  1384.18   \n",
       "3  Automóveis e Motocicletas  IOCHP-MAXION  1979.15  1562.38  1788.05   \n",
       "4  Automóveis e Motocicletas  PLASCAR PART   690.70   566.09   448.34   \n",
       "\n",
       "         4        5        6        7        8        9      10      11  \\\n",
       "0  1370.22  1506.47  1452.53  1512.72  1061.17   983.34  553.59  440.39   \n",
       "1  1005.23  1020.48   945.18  1066.60   906.34   867.62  627.59  646.34   \n",
       "2  1373.47  1654.60  1340.56  1395.77  1151.49  1171.11  733.55  425.71   \n",
       "3  1563.58  1902.57  1917.95  1570.17  1340.11  1293.30  813.15  483.66   \n",
       "4   422.13   423.90   467.22   418.13   345.07   249.73  160.93  114.68   \n",
       "\n",
       "       12  Volatilidade  \n",
       "0  534.04        271.72  \n",
       "1  569.36        597.36  \n",
       "2  454.70        969.99  \n",
       "3  437.47       1541.68  \n",
       "4   63.39        627.31  "
      ]
     },
     "execution_count": 16,
     "metadata": {},
     "output_type": "execute_result"
    }
   ],
   "source": [
    "data_2008['Volatilidade'] = data_2008['1'] - data_2008['12'] \n",
    "data_2008.head()"
   ]
  },
  {
   "cell_type": "markdown",
   "metadata": {},
   "source": [
    "\n",
    "## Visualizando % de empresas que desvalorizaram"
   ]
  },
  {
   "cell_type": "code",
   "execution_count": 36,
   "metadata": {},
   "outputs": [
    {
     "data": {
      "image/png": "[encoded data removed]",
      "text/plain": [
       "<Figure size 576x432 with 1 Axes>"
      ]
     },
     "metadata": {},
     "output_type": "display_data"
    }
   ],
   "source": [
    "desvalorizaram = data_2008.index[data_2008['Volatilidade'] < 0]\n",
    "valorizaram = data_2008.index[data_2008['Volatilidade'] > 0]\n",
    "\n",
    "labels = 'Valorizou', 'Desvalorizou'\n",
    "sizes = [valorizaram.size, desvalorizaram.size]\n",
    "colors = ['red', 'peachpuff']\n",
    "explode = (0.1, 0)  # explode 1st slice\n",
    "fig = plt.figure(figsize=[8, 6])\n",
    "\n",
    "# Plot\n",
    "plt.pie(sizes, explode=explode, labels=labels, colors=colors,\n",
    "autopct='%1.1f%%', shadow=True, startangle=140)\n",
    "\n",
    "plt.axis('equal')\n",
    "plt.title(\"Saldo final da pandemia de 2008\", fontsize=20)\n",
    "plt.show()"
   ]
  },
  {
   "cell_type": "markdown",
   "metadata": {},
   "source": [
    "## Analisando quem mais desvalorizou"
   ]
  },
  {
   "cell_type": "code",
   "execution_count": 37,
   "metadata": {},
   "outputs": [
    {
     "data": {
      "text/html": [
       "<div>\n",
       "<style scoped>\n",
       "    .dataframe tbody tr th:only-of-type {\n",
       "        vertical-align: middle;\n",
       "    }\n",
       "\n",
       "    .dataframe tbody tr th {\n",
       "        vertical-align: top;\n",
       "    }\n",
       "\n",
       "    .dataframe thead th {\n",
       "        text-align: right;\n",
       "    }\n",
       "</style>\n",
       "<table border=\"1\" class=\"dataframe\">\n",
       "  <thead>\n",
       "    <tr style=\"text-align: right;\">\n",
       "      <th></th>\n",
       "      <th>Segmento</th>\n",
       "      <th>Empresa</th>\n",
       "      <th>1</th>\n",
       "      <th>2</th>\n",
       "      <th>3</th>\n",
       "      <th>4</th>\n",
       "      <th>5</th>\n",
       "      <th>6</th>\n",
       "      <th>7</th>\n",
       "      <th>8</th>\n",
       "      <th>9</th>\n",
       "      <th>10</th>\n",
       "      <th>11</th>\n",
       "      <th>12</th>\n",
       "      <th>Volatilidade</th>\n",
       "    </tr>\n",
       "  </thead>\n",
       "  <tbody>\n",
       "    <tr>\n",
       "      <th>349</th>\n",
       "      <td>Outro</td>\n",
       "      <td>IBOVE</td>\n",
       "      <td>236234.55</td>\n",
       "      <td>306908.03</td>\n",
       "      <td>285511.08</td>\n",
       "      <td>352072.65</td>\n",
       "      <td>132504.11</td>\n",
       "      <td>695488.50</td>\n",
       "      <td>417120.89</td>\n",
       "      <td>1440328.15</td>\n",
       "      <td>633436.97</td>\n",
       "      <td>2372775.89</td>\n",
       "      <td>321026.01</td>\n",
       "      <td>1785228.99</td>\n",
       "      <td>-1548994.44</td>\n",
       "    </tr>\n",
       "    <tr>\n",
       "      <th>348</th>\n",
       "      <td>Outro</td>\n",
       "      <td>IBOV</td>\n",
       "      <td>274439.53</td>\n",
       "      <td>1276556.45</td>\n",
       "      <td>431892.97</td>\n",
       "      <td>1355620.09</td>\n",
       "      <td>876272.92</td>\n",
       "      <td>1158023.64</td>\n",
       "      <td>314099.29</td>\n",
       "      <td>279791.42</td>\n",
       "      <td>325975.76</td>\n",
       "      <td>297974.10</td>\n",
       "      <td>234048.14</td>\n",
       "      <td>626351.82</td>\n",
       "      <td>-351912.29</td>\n",
       "    </tr>\n",
       "    <tr>\n",
       "      <th>280</th>\n",
       "      <td>Outro</td>\n",
       "      <td>FII CRIANCA</td>\n",
       "      <td>421.00</td>\n",
       "      <td>652.90</td>\n",
       "      <td>1125.02</td>\n",
       "      <td>922.00</td>\n",
       "      <td>673.10</td>\n",
       "      <td>460.00</td>\n",
       "      <td>1119.90</td>\n",
       "      <td>1095.00</td>\n",
       "      <td>878.00</td>\n",
       "      <td>1095.49</td>\n",
       "      <td>180.10</td>\n",
       "      <td>1980.23</td>\n",
       "      <td>-1559.23</td>\n",
       "    </tr>\n",
       "    <tr>\n",
       "      <th>658</th>\n",
       "      <td>Outro</td>\n",
       "      <td>VIVO</td>\n",
       "      <td>1100.35</td>\n",
       "      <td>1161.31</td>\n",
       "      <td>1067.42</td>\n",
       "      <td>1245.29</td>\n",
       "      <td>1223.06</td>\n",
       "      <td>1300.84</td>\n",
       "      <td>1199.45</td>\n",
       "      <td>975.78</td>\n",
       "      <td>979.20</td>\n",
       "      <td>1702.33</td>\n",
       "      <td>1855.38</td>\n",
       "      <td>2438.76</td>\n",
       "      <td>-1338.41</td>\n",
       "    </tr>\n",
       "    <tr>\n",
       "      <th>495</th>\n",
       "      <td>Outro</td>\n",
       "      <td>PETRE</td>\n",
       "      <td>733.00</td>\n",
       "      <td>1959.58</td>\n",
       "      <td>1061.92</td>\n",
       "      <td>1236.94</td>\n",
       "      <td>1234.88</td>\n",
       "      <td>1765.18</td>\n",
       "      <td>2276.01</td>\n",
       "      <td>2473.48</td>\n",
       "      <td>2423.74</td>\n",
       "      <td>3233.01</td>\n",
       "      <td>2251.46</td>\n",
       "      <td>1643.22</td>\n",
       "      <td>-910.22</td>\n",
       "    </tr>\n",
       "  </tbody>\n",
       "</table>\n",
       "</div>"
      ],
      "text/plain": [
       "    Segmento      Empresa          1           2          3           4  \\\n",
       "349    Outro        IBOVE  236234.55   306908.03  285511.08   352072.65   \n",
       "348    Outro         IBOV  274439.53  1276556.45  431892.97  1355620.09   \n",
       "280    Outro  FII CRIANCA     421.00      652.90    1125.02      922.00   \n",
       "658    Outro         VIVO    1100.35     1161.31    1067.42     1245.29   \n",
       "495    Outro        PETRE     733.00     1959.58    1061.92     1236.94   \n",
       "\n",
       "             5           6          7           8          9          10  \\\n",
       "349  132504.11   695488.50  417120.89  1440328.15  633436.97  2372775.89   \n",
       "348  876272.92  1158023.64  314099.29   279791.42  325975.76   297974.10   \n",
       "280     673.10      460.00    1119.90     1095.00     878.00     1095.49   \n",
       "658    1223.06     1300.84    1199.45      975.78     979.20     1702.33   \n",
       "495    1234.88     1765.18    2276.01     2473.48    2423.74     3233.01   \n",
       "\n",
       "            11          12  Volatilidade  \n",
       "349  321026.01  1785228.99   -1548994.44  \n",
       "348  234048.14   626351.82    -351912.29  \n",
       "280     180.10     1980.23      -1559.23  \n",
       "658    1855.38     2438.76      -1338.41  \n",
       "495    2251.46     1643.22       -910.22  "
      ]
     },
     "execution_count": 37,
     "metadata": {},
     "output_type": "execute_result"
    }
   ],
   "source": [
    "data_2008_lowest = data_2008.nsmallest(20, 'Volatilidade')\n",
    "data_2008_lowest.head()"
   ]
  },
  {
   "cell_type": "code",
   "execution_count": 38,
   "metadata": {},
   "outputs": [
    {
     "data": {
      "text/plain": [
       "<AxesSubplot:xlabel='Empresa'>"
      ]
     },
     "execution_count": 38,
     "metadata": {},
     "output_type": "execute_result"
    },
    {
     "data": {
      "image/png": "[encoded data removed]",
      "text/plain": [
       "<Figure size 1440x720 with 1 Axes>"
      ]
     },
     "metadata": {
      "needs_background": "light"
     },
     "output_type": "display_data"
    }
   ],
   "source": [
    "data_2008_lowest.plot(x='Empresa', y='Volatilidade', figsize=(20, 10)) "
   ]
  },
  {
   "cell_type": "markdown",
   "metadata": {},
   "source": [
    "## Analisando quem mais valorizou"
   ]
  },
  {
   "cell_type": "code",
   "execution_count": 39,
   "metadata": {},
   "outputs": [
    {
     "data": {
      "text/html": [
       "<div>\n",
       "<style scoped>\n",
       "    .dataframe tbody tr th:only-of-type {\n",
       "        vertical-align: middle;\n",
       "    }\n",
       "\n",
       "    .dataframe tbody tr th {\n",
       "        vertical-align: top;\n",
       "    }\n",
       "\n",
       "    .dataframe thead th {\n",
       "        text-align: right;\n",
       "    }\n",
       "</style>\n",
       "<table border=\"1\" class=\"dataframe\">\n",
       "  <thead>\n",
       "    <tr style=\"text-align: right;\">\n",
       "      <th></th>\n",
       "      <th>Segmento</th>\n",
       "      <th>Empresa</th>\n",
       "      <th>1</th>\n",
       "      <th>2</th>\n",
       "      <th>3</th>\n",
       "      <th>4</th>\n",
       "      <th>5</th>\n",
       "      <th>6</th>\n",
       "      <th>7</th>\n",
       "      <th>8</th>\n",
       "      <th>9</th>\n",
       "      <th>10</th>\n",
       "      <th>11</th>\n",
       "      <th>12</th>\n",
       "      <th>Volatilidade</th>\n",
       "    </tr>\n",
       "  </thead>\n",
       "  <tbody>\n",
       "    <tr>\n",
       "      <th>121</th>\n",
       "      <td>Outro</td>\n",
       "      <td>BR BROKERS</td>\n",
       "      <td>56419.10</td>\n",
       "      <td>31536.11</td>\n",
       "      <td>28024.51</td>\n",
       "      <td>30997.73</td>\n",
       "      <td>29699.73</td>\n",
       "      <td>43444.18</td>\n",
       "      <td>28403.84</td>\n",
       "      <td>5059.35</td>\n",
       "      <td>223.33</td>\n",
       "      <td>111.33</td>\n",
       "      <td>72.47</td>\n",
       "      <td>42.10</td>\n",
       "      <td>56377.00</td>\n",
       "    </tr>\n",
       "    <tr>\n",
       "      <th>453</th>\n",
       "      <td>Outro</td>\n",
       "      <td>MMX MINER</td>\n",
       "      <td>47262.47</td>\n",
       "      <td>39592.72</td>\n",
       "      <td>56793.19</td>\n",
       "      <td>21168.99</td>\n",
       "      <td>5045.71</td>\n",
       "      <td>4913.37</td>\n",
       "      <td>3817.09</td>\n",
       "      <td>1089.97</td>\n",
       "      <td>978.83</td>\n",
       "      <td>380.20</td>\n",
       "      <td>299.80</td>\n",
       "      <td>203.50</td>\n",
       "      <td>47058.97</td>\n",
       "    </tr>\n",
       "    <tr>\n",
       "      <th>440</th>\n",
       "      <td>Outro</td>\n",
       "      <td>MERC BRASIL</td>\n",
       "      <td>38696.35</td>\n",
       "      <td>726.51</td>\n",
       "      <td>630.98</td>\n",
       "      <td>886.97</td>\n",
       "      <td>689.41</td>\n",
       "      <td>778.47</td>\n",
       "      <td>646.49</td>\n",
       "      <td>449.32</td>\n",
       "      <td>503.93</td>\n",
       "      <td>344.78</td>\n",
       "      <td>397.96</td>\n",
       "      <td>332.78</td>\n",
       "      <td>38363.57</td>\n",
       "    </tr>\n",
       "    <tr>\n",
       "      <th>500</th>\n",
       "      <td>Outro</td>\n",
       "      <td>PETROBRAS</td>\n",
       "      <td>32641.17</td>\n",
       "      <td>26339.42</td>\n",
       "      <td>39639.91</td>\n",
       "      <td>32988.13</td>\n",
       "      <td>22847.75</td>\n",
       "      <td>26705.96</td>\n",
       "      <td>23493.56</td>\n",
       "      <td>16420.20</td>\n",
       "      <td>15075.21</td>\n",
       "      <td>12347.57</td>\n",
       "      <td>7819.69</td>\n",
       "      <td>7671.11</td>\n",
       "      <td>24970.06</td>\n",
       "    </tr>\n",
       "    <tr>\n",
       "      <th>644</th>\n",
       "      <td>Outro</td>\n",
       "      <td>USIMINAS</td>\n",
       "      <td>21154.90</td>\n",
       "      <td>18888.91</td>\n",
       "      <td>21699.17</td>\n",
       "      <td>26457.23</td>\n",
       "      <td>21629.20</td>\n",
       "      <td>22761.15</td>\n",
       "      <td>23305.12</td>\n",
       "      <td>28417.70</td>\n",
       "      <td>17212.82</td>\n",
       "      <td>8524.09</td>\n",
       "      <td>4970.23</td>\n",
       "      <td>5062.73</td>\n",
       "      <td>16092.17</td>\n",
       "    </tr>\n",
       "  </tbody>\n",
       "</table>\n",
       "</div>"
      ],
      "text/plain": [
       "    Segmento      Empresa         1         2         3         4         5  \\\n",
       "121    Outro   BR BROKERS  56419.10  31536.11  28024.51  30997.73  29699.73   \n",
       "453    Outro    MMX MINER  47262.47  39592.72  56793.19  21168.99   5045.71   \n",
       "440    Outro  MERC BRASIL  38696.35    726.51    630.98    886.97    689.41   \n",
       "500    Outro    PETROBRAS  32641.17  26339.42  39639.91  32988.13  22847.75   \n",
       "644    Outro     USIMINAS  21154.90  18888.91  21699.17  26457.23  21629.20   \n",
       "\n",
       "            6         7         8         9        10       11       12  \\\n",
       "121  43444.18  28403.84   5059.35    223.33    111.33    72.47    42.10   \n",
       "453   4913.37   3817.09   1089.97    978.83    380.20   299.80   203.50   \n",
       "440    778.47    646.49    449.32    503.93    344.78   397.96   332.78   \n",
       "500  26705.96  23493.56  16420.20  15075.21  12347.57  7819.69  7671.11   \n",
       "644  22761.15  23305.12  28417.70  17212.82   8524.09  4970.23  5062.73   \n",
       "\n",
       "     Volatilidade  \n",
       "121      56377.00  \n",
       "453      47058.97  \n",
       "440      38363.57  \n",
       "500      24970.06  \n",
       "644      16092.17  "
      ]
     },
     "execution_count": 39,
     "metadata": {},
     "output_type": "execute_result"
    }
   ],
   "source": [
    "data_2008_largest = data_2008.nlargest(20, 'Volatilidade')\n",
    "data_2008_largest.head()"
   ]
  },
  {
   "cell_type": "code",
   "execution_count": 40,
   "metadata": {},
   "outputs": [
    {
     "data": {
      "text/plain": [
       "<AxesSubplot:xlabel='Empresa'>"
      ]
     },
     "execution_count": 40,
     "metadata": {},
     "output_type": "execute_result"
    },
    {
     "data": {
      "image/png": "[encoded data removed]",
      "text/plain": [
       "<Figure size 1440x720 with 1 Axes>"
      ]
     },
     "metadata": {
      "needs_background": "light"
     },
     "output_type": "display_data"
    }
   ],
   "source": [
    "data_2008_largest.plot(x='Empresa', y='Volatilidade', figsize=(20, 10)) "
   ]
  },
  {
   "cell_type": "markdown",
   "metadata": {},
   "source": [
    "## Analisando segmentos que mais valorizaram"
   ]
  },
  {
   "cell_type": "code",
   "execution_count": 41,
   "metadata": {},
   "outputs": [
    {
     "data": {
      "image/png": "[encoded data removed]",
      "text/plain": [
       "<Figure size 1440x720 with 1 Axes>"
      ]
     },
     "metadata": {
      "needs_background": "light"
     },
     "output_type": "display_data"
    }
   ],
   "source": [
    "segmento = data_2008_largest['Segmento']\n",
    "volatilidade = data_2008_largest['Volatilidade']\n",
    "\n",
    "fig = plt.figure(figsize =(20, 10))\n",
    "plt.bar(segmento[0:20], volatilidade[0:20])\n",
    "plt.show()"
   ]
  },
  {
   "cell_type": "markdown",
   "metadata": {},
   "source": [
    "## Analisando segmentos que mais desvalorizaram"
   ]
  },
  {
   "cell_type": "code",
   "execution_count": 42,
   "metadata": {},
   "outputs": [
    {
     "data": {
      "image/png": "[encoded data removed]",
      "text/plain": [
       "<Figure size 1440x720 with 1 Axes>"
      ]
     },
     "metadata": {
      "needs_background": "light"
     },
     "output_type": "display_data"
    }
   ],
   "source": [
    "segmento = data_2008_lowest['Segmento']\n",
    "volatilidade = data_2008_lowest['Volatilidade']\n",
    "\n",
    "fig = plt.figure(figsize =(20, 10))\n",
    "plt.bar(segmento[0:20], volatilidade[0:20])\n",
    "plt.show()"
   ]
  },
  {
   "cell_type": "markdown",
   "metadata": {},
   "source": [
    "## Correlação\n"
   ]
  },
  {
   "cell_type": "code",
   "execution_count": 126,
   "metadata": {},
   "outputs": [
    {
     "data": {
      "text/plain": [
       "0       0\n",
       "1       1\n",
       "2       1\n",
       "3       2\n",
       "4       2\n",
       "       ..\n",
       "678    22\n",
       "679    22\n",
       "680    22\n",
       "681    22\n",
       "682    23\n",
       "Name: Segmento, Length: 683, dtype: int8"
      ]
     },
     "execution_count": 126,
     "metadata": {},
     "output_type": "execute_result"
    }
   ],
   "source": [
    "data_2008_cor = data_2008.copy()\n",
    "data_2008_cor['Segmento'] = data_2008_cor['Segmento'].astype('category').cat.codes\n",
    "data_2008_cor['Segmento']"
   ]
  },
  {
   "cell_type": "code",
   "execution_count": 127,
   "metadata": {},
   "outputs": [
    {
     "data": {
      "text/plain": [
       "0      575\n",
       "1      421\n",
       "2      558\n",
       "3      352\n",
       "4      510\n",
       "      ... \n",
       "678    424\n",
       "679    481\n",
       "680    484\n",
       "681    574\n",
       "682    628\n",
       "Name: Empresa, Length: 683, dtype: int16"
      ]
     },
     "execution_count": 127,
     "metadata": {},
     "output_type": "execute_result"
    }
   ],
   "source": [
    "data_2008_cor['Empresa'] = data_2008_cor['Empresa'].astype('category').cat.codes\n",
    "data_2008_cor['Empresa']"
   ]
  },
  {
   "cell_type": "code",
   "execution_count": 144,
   "metadata": {},
   "outputs": [
    {
     "data": {
      "text/html": [
       "<div>\n",
       "<style scoped>\n",
       "    .dataframe tbody tr th:only-of-type {\n",
       "        vertical-align: middle;\n",
       "    }\n",
       "\n",
       "    .dataframe tbody tr th {\n",
       "        vertical-align: top;\n",
       "    }\n",
       "\n",
       "    .dataframe thead th {\n",
       "        text-align: right;\n",
       "    }\n",
       "</style>\n",
       "<table border=\"1\" class=\"dataframe\">\n",
       "  <thead>\n",
       "    <tr style=\"text-align: right;\">\n",
       "      <th></th>\n",
       "      <th>Segmento</th>\n",
       "      <th>Empresa</th>\n",
       "      <th>1</th>\n",
       "      <th>2</th>\n",
       "      <th>3</th>\n",
       "      <th>4</th>\n",
       "      <th>5</th>\n",
       "      <th>6</th>\n",
       "      <th>7</th>\n",
       "      <th>8</th>\n",
       "      <th>9</th>\n",
       "      <th>10</th>\n",
       "      <th>11</th>\n",
       "      <th>12</th>\n",
       "      <th>Volatilidade</th>\n",
       "    </tr>\n",
       "  </thead>\n",
       "  <tbody>\n",
       "    <tr>\n",
       "      <th>Segmento</th>\n",
       "      <td>1.000000</td>\n",
       "      <td>-0.051536</td>\n",
       "      <td>0.014749</td>\n",
       "      <td>0.007962</td>\n",
       "      <td>0.011360</td>\n",
       "      <td>0.008346</td>\n",
       "      <td>0.008502</td>\n",
       "      <td>0.010812</td>\n",
       "      <td>0.012095</td>\n",
       "      <td>0.008207</td>\n",
       "      <td>0.010321</td>\n",
       "      <td>0.007125</td>\n",
       "      <td>0.010188</td>\n",
       "      <td>0.008377</td>\n",
       "      <td>-0.006157</td>\n",
       "    </tr>\n",
       "    <tr>\n",
       "      <th>Empresa</th>\n",
       "      <td>-0.051536</td>\n",
       "      <td>1.000000</td>\n",
       "      <td>-0.011575</td>\n",
       "      <td>-0.004082</td>\n",
       "      <td>-0.002855</td>\n",
       "      <td>-0.004115</td>\n",
       "      <td>-0.000315</td>\n",
       "      <td>-0.000580</td>\n",
       "      <td>0.002041</td>\n",
       "      <td>-0.002403</td>\n",
       "      <td>-0.006629</td>\n",
       "      <td>-0.005083</td>\n",
       "      <td>-0.008371</td>\n",
       "      <td>-0.002769</td>\n",
       "      <td>0.001931</td>\n",
       "    </tr>\n",
       "    <tr>\n",
       "      <th>1</th>\n",
       "      <td>0.014749</td>\n",
       "      <td>-0.011575</td>\n",
       "      <td>1.000000</td>\n",
       "      <td>0.859683</td>\n",
       "      <td>0.978214</td>\n",
       "      <td>0.865235</td>\n",
       "      <td>0.822688</td>\n",
       "      <td>0.949076</td>\n",
       "      <td>0.955106</td>\n",
       "      <td>0.752194</td>\n",
       "      <td>0.893303</td>\n",
       "      <td>0.705807</td>\n",
       "      <td>0.939039</td>\n",
       "      <td>0.824406</td>\n",
       "      <td>-0.740819</td>\n",
       "    </tr>\n",
       "    <tr>\n",
       "      <th>2</th>\n",
       "      <td>0.007962</td>\n",
       "      <td>-0.004082</td>\n",
       "      <td>0.859683</td>\n",
       "      <td>1.000000</td>\n",
       "      <td>0.931529</td>\n",
       "      <td>0.999570</td>\n",
       "      <td>0.995094</td>\n",
       "      <td>0.953277</td>\n",
       "      <td>0.767493</td>\n",
       "      <td>0.413318</td>\n",
       "      <td>0.650702</td>\n",
       "      <td>0.350105</td>\n",
       "      <td>0.758164</td>\n",
       "      <td>0.539520</td>\n",
       "      <td>-0.435717</td>\n",
       "    </tr>\n",
       "    <tr>\n",
       "      <th>3</th>\n",
       "      <td>0.011360</td>\n",
       "      <td>-0.002855</td>\n",
       "      <td>0.978214</td>\n",
       "      <td>0.931529</td>\n",
       "      <td>1.000000</td>\n",
       "      <td>0.935911</td>\n",
       "      <td>0.899694</td>\n",
       "      <td>0.987067</td>\n",
       "      <td>0.936724</td>\n",
       "      <td>0.690174</td>\n",
       "      <td>0.862248</td>\n",
       "      <td>0.638387</td>\n",
       "      <td>0.925340</td>\n",
       "      <td>0.781316</td>\n",
       "      <td>-0.694855</td>\n",
       "    </tr>\n",
       "    <tr>\n",
       "      <th>4</th>\n",
       "      <td>0.008346</td>\n",
       "      <td>-0.004115</td>\n",
       "      <td>0.865235</td>\n",
       "      <td>0.999570</td>\n",
       "      <td>0.935911</td>\n",
       "      <td>1.000000</td>\n",
       "      <td>0.993639</td>\n",
       "      <td>0.958903</td>\n",
       "      <td>0.778871</td>\n",
       "      <td>0.429997</td>\n",
       "      <td>0.664621</td>\n",
       "      <td>0.367325</td>\n",
       "      <td>0.769819</td>\n",
       "      <td>0.554981</td>\n",
       "      <td>-0.452697</td>\n",
       "    </tr>\n",
       "    <tr>\n",
       "      <th>5</th>\n",
       "      <td>0.008502</td>\n",
       "      <td>-0.000315</td>\n",
       "      <td>0.822688</td>\n",
       "      <td>0.995094</td>\n",
       "      <td>0.899694</td>\n",
       "      <td>0.993639</td>\n",
       "      <td>1.000000</td>\n",
       "      <td>0.923847</td>\n",
       "      <td>0.714082</td>\n",
       "      <td>0.333266</td>\n",
       "      <td>0.584417</td>\n",
       "      <td>0.267853</td>\n",
       "      <td>0.701153</td>\n",
       "      <td>0.464252</td>\n",
       "      <td>-0.355347</td>\n",
       "    </tr>\n",
       "    <tr>\n",
       "      <th>6</th>\n",
       "      <td>0.010812</td>\n",
       "      <td>-0.000580</td>\n",
       "      <td>0.949076</td>\n",
       "      <td>0.953277</td>\n",
       "      <td>0.987067</td>\n",
       "      <td>0.958903</td>\n",
       "      <td>0.923847</td>\n",
       "      <td>1.000000</td>\n",
       "      <td>0.921824</td>\n",
       "      <td>0.667756</td>\n",
       "      <td>0.848347</td>\n",
       "      <td>0.614969</td>\n",
       "      <td>0.916667</td>\n",
       "      <td>0.767068</td>\n",
       "      <td>-0.685084</td>\n",
       "    </tr>\n",
       "    <tr>\n",
       "      <th>7</th>\n",
       "      <td>0.012095</td>\n",
       "      <td>0.002041</td>\n",
       "      <td>0.955106</td>\n",
       "      <td>0.767493</td>\n",
       "      <td>0.936724</td>\n",
       "      <td>0.778871</td>\n",
       "      <td>0.714082</td>\n",
       "      <td>0.921824</td>\n",
       "      <td>1.000000</td>\n",
       "      <td>0.892153</td>\n",
       "      <td>0.980995</td>\n",
       "      <td>0.857401</td>\n",
       "      <td>0.993707</td>\n",
       "      <td>0.941657</td>\n",
       "      <td>-0.892597</td>\n",
       "    </tr>\n",
       "    <tr>\n",
       "      <th>8</th>\n",
       "      <td>0.008207</td>\n",
       "      <td>-0.002403</td>\n",
       "      <td>0.752194</td>\n",
       "      <td>0.413318</td>\n",
       "      <td>0.690174</td>\n",
       "      <td>0.429997</td>\n",
       "      <td>0.333266</td>\n",
       "      <td>0.667756</td>\n",
       "      <td>0.892153</td>\n",
       "      <td>1.000000</td>\n",
       "      <td>0.959107</td>\n",
       "      <td>0.997081</td>\n",
       "      <td>0.902328</td>\n",
       "      <td>0.988720</td>\n",
       "      <td>-0.994910</td>\n",
       "    </tr>\n",
       "    <tr>\n",
       "      <th>9</th>\n",
       "      <td>0.010321</td>\n",
       "      <td>-0.006629</td>\n",
       "      <td>0.893303</td>\n",
       "      <td>0.650702</td>\n",
       "      <td>0.862248</td>\n",
       "      <td>0.664621</td>\n",
       "      <td>0.584417</td>\n",
       "      <td>0.848347</td>\n",
       "      <td>0.980995</td>\n",
       "      <td>0.959107</td>\n",
       "      <td>1.000000</td>\n",
       "      <td>0.936849</td>\n",
       "      <td>0.986692</td>\n",
       "      <td>0.987908</td>\n",
       "      <td>-0.960686</td>\n",
       "    </tr>\n",
       "    <tr>\n",
       "      <th>10</th>\n",
       "      <td>0.007125</td>\n",
       "      <td>-0.005083</td>\n",
       "      <td>0.705807</td>\n",
       "      <td>0.350105</td>\n",
       "      <td>0.638387</td>\n",
       "      <td>0.367325</td>\n",
       "      <td>0.267853</td>\n",
       "      <td>0.614969</td>\n",
       "      <td>0.857401</td>\n",
       "      <td>0.997081</td>\n",
       "      <td>0.936849</td>\n",
       "      <td>1.000000</td>\n",
       "      <td>0.870604</td>\n",
       "      <td>0.977433</td>\n",
       "      <td>-0.992326</td>\n",
       "    </tr>\n",
       "    <tr>\n",
       "      <th>11</th>\n",
       "      <td>0.010188</td>\n",
       "      <td>-0.008371</td>\n",
       "      <td>0.939039</td>\n",
       "      <td>0.758164</td>\n",
       "      <td>0.925340</td>\n",
       "      <td>0.769819</td>\n",
       "      <td>0.701153</td>\n",
       "      <td>0.916667</td>\n",
       "      <td>0.993707</td>\n",
       "      <td>0.902328</td>\n",
       "      <td>0.986692</td>\n",
       "      <td>0.870604</td>\n",
       "      <td>1.000000</td>\n",
       "      <td>0.952554</td>\n",
       "      <td>-0.907740</td>\n",
       "    </tr>\n",
       "    <tr>\n",
       "      <th>12</th>\n",
       "      <td>0.008377</td>\n",
       "      <td>-0.002769</td>\n",
       "      <td>0.824406</td>\n",
       "      <td>0.539520</td>\n",
       "      <td>0.781316</td>\n",
       "      <td>0.554981</td>\n",
       "      <td>0.464252</td>\n",
       "      <td>0.767068</td>\n",
       "      <td>0.941657</td>\n",
       "      <td>0.988720</td>\n",
       "      <td>0.987908</td>\n",
       "      <td>0.977433</td>\n",
       "      <td>0.952554</td>\n",
       "      <td>1.000000</td>\n",
       "      <td>-0.990920</td>\n",
       "    </tr>\n",
       "    <tr>\n",
       "      <th>Volatilidade</th>\n",
       "      <td>-0.006157</td>\n",
       "      <td>0.001931</td>\n",
       "      <td>-0.740819</td>\n",
       "      <td>-0.435717</td>\n",
       "      <td>-0.694855</td>\n",
       "      <td>-0.452697</td>\n",
       "      <td>-0.355347</td>\n",
       "      <td>-0.685084</td>\n",
       "      <td>-0.892597</td>\n",
       "      <td>-0.994910</td>\n",
       "      <td>-0.960686</td>\n",
       "      <td>-0.992326</td>\n",
       "      <td>-0.907740</td>\n",
       "      <td>-0.990920</td>\n",
       "      <td>1.000000</td>\n",
       "    </tr>\n",
       "  </tbody>\n",
       "</table>\n",
       "</div>"
      ],
      "text/plain": [
       "              Segmento   Empresa         1         2         3         4  \\\n",
       "Segmento      1.000000 -0.051536  0.014749  0.007962  0.011360  0.008346   \n",
       "Empresa      -0.051536  1.000000 -0.011575 -0.004082 -0.002855 -0.004115   \n",
       "1             0.014749 -0.011575  1.000000  0.859683  0.978214  0.865235   \n",
       "2             0.007962 -0.004082  0.859683  1.000000  0.931529  0.999570   \n",
       "3             0.011360 -0.002855  0.978214  0.931529  1.000000  0.935911   \n",
       "4             0.008346 -0.004115  0.865235  0.999570  0.935911  1.000000   \n",
       "5             0.008502 -0.000315  0.822688  0.995094  0.899694  0.993639   \n",
       "6             0.010812 -0.000580  0.949076  0.953277  0.987067  0.958903   \n",
       "7             0.012095  0.002041  0.955106  0.767493  0.936724  0.778871   \n",
       "8             0.008207 -0.002403  0.752194  0.413318  0.690174  0.429997   \n",
       "9             0.010321 -0.006629  0.893303  0.650702  0.862248  0.664621   \n",
       "10            0.007125 -0.005083  0.705807  0.350105  0.638387  0.367325   \n",
       "11            0.010188 -0.008371  0.939039  0.758164  0.925340  0.769819   \n",
       "12            0.008377 -0.002769  0.824406  0.539520  0.781316  0.554981   \n",
       "Volatilidade -0.006157  0.001931 -0.740819 -0.435717 -0.694855 -0.452697   \n",
       "\n",
       "                     5         6         7         8         9        10  \\\n",
       "Segmento      0.008502  0.010812  0.012095  0.008207  0.010321  0.007125   \n",
       "Empresa      -0.000315 -0.000580  0.002041 -0.002403 -0.006629 -0.005083   \n",
       "1             0.822688  0.949076  0.955106  0.752194  0.893303  0.705807   \n",
       "2             0.995094  0.953277  0.767493  0.413318  0.650702  0.350105   \n",
       "3             0.899694  0.987067  0.936724  0.690174  0.862248  0.638387   \n",
       "4             0.993639  0.958903  0.778871  0.429997  0.664621  0.367325   \n",
       "5             1.000000  0.923847  0.714082  0.333266  0.584417  0.267853   \n",
       "6             0.923847  1.000000  0.921824  0.667756  0.848347  0.614969   \n",
       "7             0.714082  0.921824  1.000000  0.892153  0.980995  0.857401   \n",
       "8             0.333266  0.667756  0.892153  1.000000  0.959107  0.997081   \n",
       "9             0.584417  0.848347  0.980995  0.959107  1.000000  0.936849   \n",
       "10            0.267853  0.614969  0.857401  0.997081  0.936849  1.000000   \n",
       "11            0.701153  0.916667  0.993707  0.902328  0.986692  0.870604   \n",
       "12            0.464252  0.767068  0.941657  0.988720  0.987908  0.977433   \n",
       "Volatilidade -0.355347 -0.685084 -0.892597 -0.994910 -0.960686 -0.992326   \n",
       "\n",
       "                    11        12  Volatilidade  \n",
       "Segmento      0.010188  0.008377     -0.006157  \n",
       "Empresa      -0.008371 -0.002769      0.001931  \n",
       "1             0.939039  0.824406     -0.740819  \n",
       "2             0.758164  0.539520     -0.435717  \n",
       "3             0.925340  0.781316     -0.694855  \n",
       "4             0.769819  0.554981     -0.452697  \n",
       "5             0.701153  0.464252     -0.355347  \n",
       "6             0.916667  0.767068     -0.685084  \n",
       "7             0.993707  0.941657     -0.892597  \n",
       "8             0.902328  0.988720     -0.994910  \n",
       "9             0.986692  0.987908     -0.960686  \n",
       "10            0.870604  0.977433     -0.992326  \n",
       "11            1.000000  0.952554     -0.907740  \n",
       "12            0.952554  1.000000     -0.990920  \n",
       "Volatilidade -0.907740 -0.990920      1.000000  "
      ]
     },
     "execution_count": 144,
     "metadata": {},
     "output_type": "execute_result"
    }
   ],
   "source": [
    "correlations = data_2008_cor.corr()\n",
    "data_2008_cor.corr()"
   ]
  },
  {
   "cell_type": "code",
   "execution_count": 143,
   "metadata": {},
   "outputs": [
    {
     "data": {
      "image/png": "[encoded data removed]",
      "text/plain": [
       "<Figure size 432x288 with 2 Axes>"
      ]
     },
     "metadata": {
      "needs_background": "light"
     },
     "output_type": "display_data"
    }
   ],
   "source": [
    "%matplotlib inline\n",
    "import seaborn as sns\n",
    "import matplotlib.pyplot as plt\n",
    "sns.heatmap(correlations)\n",
    "plt.show()"
   ]
  },
  {
   "cell_type": "markdown",
   "metadata": {},
   "source": [
    "# Pandemia 2020"
   ]
  },
  {
   "cell_type": "code",
   "execution_count": null,
   "metadata": {},
   "outputs": [],
   "source": []
  }
 ],
 "metadata": {
  "kernelspec": {
   "display_name": "Python 3",
   "language": "python",
   "name": "python3"
  },
  "language_info": {
   "codemirror_mode": {
    "name": "ipython",
    "version": 3
   },
   "file_extension": ".py",
   "mimetype": "text/x-python",
   "name": "python",
   "nbconvert_exporter": "python",
   "pygments_lexer": "ipython3",
   "version": "3.8.10"
  }
 },
 "nbformat": 4,
 "nbformat_minor": 4
}
